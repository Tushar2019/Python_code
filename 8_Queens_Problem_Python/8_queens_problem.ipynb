{
 "cells": [
  {
   "cell_type": "code",
   "execution_count": 7,
   "metadata": {},
   "outputs": [],
   "source": [
    "from __future__ import division\n",
    "from itertools import permutations, combinations\n",
    "import copy as cp\n",
    "import numpy as np\n"
   ]
  },
  {
   "cell_type": "code",
   "execution_count": 5,
   "metadata": {},
   "outputs": [
    {
     "name": "stdout",
     "output_type": "stream",
     "text": [
      "How big is your chess board?8\n"
     ]
    },
    {
     "data": {
      "text/plain": [
       "array([5, 3, 0, 4, 7, 1, 6, 2])"
      ]
     },
     "execution_count": 5,
     "metadata": {},
     "output_type": "execute_result"
    }
   ],
   "source": [
    "import random\n",
    "input_text = input('How big is your chess board?')\n",
    "N = int(input_text)\n",
    "x = range(0, N )\n",
    "\n",
    "\n",
    "master_list = []\n",
    "for item in permutations(range(0, N)):\n",
    "    y = item\n",
    "    new_list = []\n",
    "    for x_value, y_value in zip(x, y):\n",
    "        new_list.append((x_value, y_value))\n",
    "    master_list.append(new_list)\n",
    "\n",
    "\n",
    "def IsDiagonal(point1, point2):\n",
    "    x1 = point1[0]\n",
    "    y1 = point1[1]\n",
    "    x2 = point2[0]\n",
    "    y2 = point2[1]\n",
    "    gradient = (y2 - y1) / (x2 - x1)\n",
    "    if gradient == -1 or gradient == 1:\n",
    "        return(True)\n",
    "    else:\n",
    "        return(False)\n",
    "\n",
    "\n",
    "solutions = []\n",
    "for possible_solution in master_list:\n",
    "    diagonal_clash_list = []\n",
    "    for piece1, piece2 in combinations(possible_solution, 2):\n",
    "        diagonal_clash_list.append(IsDiagonal(piece1, piece2))\n",
    "\n",
    "    if True not in diagonal_clash_list:\n",
    "        solutions.append(possible_solution)\n",
    "\n",
    "def Convert(lst): \n",
    "    res_dct = {lst[i]: lst[i + 1] for i in range(0, len(lst),2)} \n",
    "    return res_dct \n",
    "          \n",
    "\n",
    "tmp_list=[]\n",
    "\n",
    "for row in range(len(solutions)):\n",
    "    for column in range(len(solutions[row])):\n",
    "         tmp_list.append(solutions[row][column][1])\n",
    "\n",
    "\n",
    "sol_array= np.asarray(tmp_list)\n",
    "solution=sol_array.reshape(92,8)\n",
    "\n",
    "random=random.randint(0,91)\n",
    "Position=solution[random]\n",
    "Position"
   ]
  },
  {
   "cell_type": "code",
   "execution_count": null,
   "metadata": {},
   "outputs": [],
   "source": []
  },
  {
   "cell_type": "code",
   "execution_count": null,
   "metadata": {},
   "outputs": [],
   "source": []
  },
  {
   "cell_type": "code",
   "execution_count": null,
   "metadata": {},
   "outputs": [],
   "source": []
  },
  {
   "cell_type": "code",
   "execution_count": null,
   "metadata": {},
   "outputs": [],
   "source": []
  },
  {
   "cell_type": "code",
   "execution_count": null,
   "metadata": {},
   "outputs": [],
   "source": []
  },
  {
   "cell_type": "code",
   "execution_count": null,
   "metadata": {},
   "outputs": [],
   "source": []
  },
  {
   "cell_type": "code",
   "execution_count": null,
   "metadata": {},
   "outputs": [],
   "source": []
  }
 ],
 "metadata": {
  "kernelspec": {
   "display_name": "Python 3",
   "language": "python",
   "name": "python3"
  },
  "language_info": {
   "codemirror_mode": {
    "name": "ipython",
    "version": 3
   },
   "file_extension": ".py",
   "mimetype": "text/x-python",
   "name": "python",
   "nbconvert_exporter": "python",
   "pygments_lexer": "ipython3",
   "version": "3.7.3"
  }
 },
 "nbformat": 4,
 "nbformat_minor": 2
}
